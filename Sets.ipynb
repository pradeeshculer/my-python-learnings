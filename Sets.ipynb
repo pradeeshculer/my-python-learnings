{
  "nbformat": 4,
  "nbformat_minor": 0,
  "metadata": {
    "colab": {
      "provenance": []
    },
    "kernelspec": {
      "name": "python3",
      "display_name": "Python 3"
    },
    "language_info": {
      "name": "python"
    }
  },
  "cells": [
    {
      "cell_type": "code",
      "execution_count": null,
      "metadata": {
        "id": "mFyxrhAa1CzC"
      },
      "outputs": [],
      "source": [
        " myset = set()"
      ]
    },
    {
      "cell_type": "code",
      "source": [
        "myset.add(1)"
      ],
      "metadata": {
        "id": "LOs8jsgv1rp3"
      },
      "execution_count": null,
      "outputs": []
    },
    {
      "cell_type": "code",
      "source": [
        "myset"
      ],
      "metadata": {
        "colab": {
          "base_uri": "https://localhost:8080/"
        },
        "id": "a1mX4MgA1vPc",
        "outputId": "551a7537-feb4-44a3-b93c-5960d619ad9b"
      },
      "execution_count": null,
      "outputs": [
        {
          "output_type": "execute_result",
          "data": {
            "text/plain": [
              "{1}"
            ]
          },
          "metadata": {},
          "execution_count": 3
        }
      ]
    },
    {
      "cell_type": "code",
      "source": [
        "myset.add(2)"
      ],
      "metadata": {
        "id": "W8EQ2Fxe1xNT"
      },
      "execution_count": null,
      "outputs": []
    },
    {
      "cell_type": "code",
      "source": [
        "myset.add(2)"
      ],
      "metadata": {
        "id": "SX3zsDc912YA"
      },
      "execution_count": null,
      "outputs": []
    },
    {
      "cell_type": "code",
      "source": [
        "myset #Set doesn't acecept a value that is already present"
      ],
      "metadata": {
        "colab": {
          "base_uri": "https://localhost:8080/"
        },
        "id": "QLZq8hAh16C0",
        "outputId": "e7b81422-3847-4628-f078-18ebd34101e8"
      },
      "execution_count": null,
      "outputs": [
        {
          "output_type": "execute_result",
          "data": {
            "text/plain": [
              "{1, 2}"
            ]
          },
          "metadata": {},
          "execution_count": 7
        }
      ]
    },
    {
      "cell_type": "code",
      "source": [
        "myset.add(2)"
      ],
      "metadata": {
        "id": "Nylw_w-k160P"
      },
      "execution_count": null,
      "outputs": []
    },
    {
      "cell_type": "code",
      "source": [
        "mylist = [1,1,1,1,1,1,1,1,2,2,2,2,2,2,2,3,3,3,5,5,5,5]"
      ],
      "metadata": {
        "id": "XgqIji-Q179_"
      },
      "execution_count": null,
      "outputs": []
    },
    {
      "cell_type": "code",
      "source": [
        "set(mylist) #Set does look similar to dictionary coz of the curly braces but it isn't"
      ],
      "metadata": {
        "colab": {
          "base_uri": "https://localhost:8080/"
        },
        "id": "qbvAEDK32XYn",
        "outputId": "682d96f2-08b8-465f-ee75-76d406c2dcaf"
      },
      "execution_count": null,
      "outputs": [
        {
          "output_type": "execute_result",
          "data": {
            "text/plain": [
              "{1, 2, 3, 5}"
            ]
          },
          "metadata": {},
          "execution_count": 10
        }
      ]
    }
  ]
}